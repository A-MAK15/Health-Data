{
 "cells": [
  {
   "cell_type": "markdown",
   "id": "2c991206-6adb-4c8e-ae06-817f379a69d9",
   "metadata": {},
   "source": [
    "## Packages"
   ]
  },
  {
   "cell_type": "code",
   "execution_count": 897,
   "id": "e743b338-6578-46d4-9d5f-12c66e915f6d",
   "metadata": {},
   "outputs": [],
   "source": [
    "#Packages\n",
    "import pandas as pd\n",
    "import numpy as np\n",
    "import seaborn as sns\n",
    "from sklearn.preprocessing import OneHotEncoder\n",
    "import matplotlib.pyplot as plt\n",
    "from sklearn.model_selection import train_test_split\n",
    "from sklearn import linear_model\n",
    "from sklearn.metrics import mean_squared_error, r2_score\n",
    "from sklearn.preprocessing import MinMaxScaler"
   ]
  },
  {
   "cell_type": "markdown",
   "id": "11853731-b463-4ea5-81b3-6fe3a00a8fce",
   "metadata": {},
   "source": [
    "## Data Loading"
   ]
  },
  {
   "cell_type": "code",
   "execution_count": 899,
   "id": "b91872db-788e-4518-9fd3-7a3bce7f478a",
   "metadata": {},
   "outputs": [
    {
     "data": {
      "text/html": [
       "<div>\n",
       "<style scoped>\n",
       "    .dataframe tbody tr th:only-of-type {\n",
       "        vertical-align: middle;\n",
       "    }\n",
       "\n",
       "    .dataframe tbody tr th {\n",
       "        vertical-align: top;\n",
       "    }\n",
       "\n",
       "    .dataframe thead th {\n",
       "        text-align: right;\n",
       "    }\n",
       "</style>\n",
       "<table border=\"1\" class=\"dataframe\">\n",
       "  <thead>\n",
       "    <tr style=\"text-align: right;\">\n",
       "      <th></th>\n",
       "      <th>age</th>\n",
       "      <th>sex</th>\n",
       "      <th>bmi</th>\n",
       "      <th>children</th>\n",
       "      <th>smoker</th>\n",
       "      <th>region</th>\n",
       "      <th>charges</th>\n",
       "    </tr>\n",
       "  </thead>\n",
       "  <tbody>\n",
       "    <tr>\n",
       "      <th>0</th>\n",
       "      <td>19</td>\n",
       "      <td>female</td>\n",
       "      <td>27.900</td>\n",
       "      <td>0</td>\n",
       "      <td>yes</td>\n",
       "      <td>southwest</td>\n",
       "      <td>16884.92400</td>\n",
       "    </tr>\n",
       "    <tr>\n",
       "      <th>1</th>\n",
       "      <td>18</td>\n",
       "      <td>male</td>\n",
       "      <td>33.770</td>\n",
       "      <td>1</td>\n",
       "      <td>no</td>\n",
       "      <td>southeast</td>\n",
       "      <td>1725.55230</td>\n",
       "    </tr>\n",
       "    <tr>\n",
       "      <th>2</th>\n",
       "      <td>28</td>\n",
       "      <td>male</td>\n",
       "      <td>33.000</td>\n",
       "      <td>3</td>\n",
       "      <td>no</td>\n",
       "      <td>southeast</td>\n",
       "      <td>4449.46200</td>\n",
       "    </tr>\n",
       "    <tr>\n",
       "      <th>3</th>\n",
       "      <td>33</td>\n",
       "      <td>male</td>\n",
       "      <td>22.705</td>\n",
       "      <td>0</td>\n",
       "      <td>no</td>\n",
       "      <td>northwest</td>\n",
       "      <td>21984.47061</td>\n",
       "    </tr>\n",
       "    <tr>\n",
       "      <th>4</th>\n",
       "      <td>32</td>\n",
       "      <td>male</td>\n",
       "      <td>28.880</td>\n",
       "      <td>0</td>\n",
       "      <td>no</td>\n",
       "      <td>northwest</td>\n",
       "      <td>3866.85520</td>\n",
       "    </tr>\n",
       "  </tbody>\n",
       "</table>\n",
       "</div>"
      ],
      "text/plain": [
       "   age     sex     bmi  children smoker     region      charges\n",
       "0   19  female  27.900         0    yes  southwest  16884.92400\n",
       "1   18    male  33.770         1     no  southeast   1725.55230\n",
       "2   28    male  33.000         3     no  southeast   4449.46200\n",
       "3   33    male  22.705         0     no  northwest  21984.47061\n",
       "4   32    male  28.880         0     no  northwest   3866.85520"
      ]
     },
     "execution_count": 899,
     "metadata": {},
     "output_type": "execute_result"
    }
   ],
   "source": [
    "df = pd.read_csv(\"insurance.csv\")\n",
    "df.head(5) #first 5 records of the data"
   ]
  },
  {
   "cell_type": "code",
   "execution_count": 901,
   "id": "c74c188b-7be2-4032-bd86-889d1ad99d9a",
   "metadata": {},
   "outputs": [
    {
     "data": {
      "text/html": [
       "<div>\n",
       "<style scoped>\n",
       "    .dataframe tbody tr th:only-of-type {\n",
       "        vertical-align: middle;\n",
       "    }\n",
       "\n",
       "    .dataframe tbody tr th {\n",
       "        vertical-align: top;\n",
       "    }\n",
       "\n",
       "    .dataframe thead th {\n",
       "        text-align: right;\n",
       "    }\n",
       "</style>\n",
       "<table border=\"1\" class=\"dataframe\">\n",
       "  <thead>\n",
       "    <tr style=\"text-align: right;\">\n",
       "      <th></th>\n",
       "      <th>age</th>\n",
       "      <th>sex</th>\n",
       "      <th>bmi</th>\n",
       "      <th>children</th>\n",
       "      <th>smoker</th>\n",
       "      <th>region</th>\n",
       "      <th>charges</th>\n",
       "    </tr>\n",
       "  </thead>\n",
       "  <tbody>\n",
       "    <tr>\n",
       "      <th>1333</th>\n",
       "      <td>50</td>\n",
       "      <td>male</td>\n",
       "      <td>30.97</td>\n",
       "      <td>3</td>\n",
       "      <td>no</td>\n",
       "      <td>northwest</td>\n",
       "      <td>10600.5483</td>\n",
       "    </tr>\n",
       "    <tr>\n",
       "      <th>1334</th>\n",
       "      <td>18</td>\n",
       "      <td>female</td>\n",
       "      <td>31.92</td>\n",
       "      <td>0</td>\n",
       "      <td>no</td>\n",
       "      <td>northeast</td>\n",
       "      <td>2205.9808</td>\n",
       "    </tr>\n",
       "    <tr>\n",
       "      <th>1335</th>\n",
       "      <td>18</td>\n",
       "      <td>female</td>\n",
       "      <td>36.85</td>\n",
       "      <td>0</td>\n",
       "      <td>no</td>\n",
       "      <td>southeast</td>\n",
       "      <td>1629.8335</td>\n",
       "    </tr>\n",
       "    <tr>\n",
       "      <th>1336</th>\n",
       "      <td>21</td>\n",
       "      <td>female</td>\n",
       "      <td>25.80</td>\n",
       "      <td>0</td>\n",
       "      <td>no</td>\n",
       "      <td>southwest</td>\n",
       "      <td>2007.9450</td>\n",
       "    </tr>\n",
       "    <tr>\n",
       "      <th>1337</th>\n",
       "      <td>61</td>\n",
       "      <td>female</td>\n",
       "      <td>29.07</td>\n",
       "      <td>0</td>\n",
       "      <td>yes</td>\n",
       "      <td>northwest</td>\n",
       "      <td>29141.3603</td>\n",
       "    </tr>\n",
       "  </tbody>\n",
       "</table>\n",
       "</div>"
      ],
      "text/plain": [
       "      age     sex    bmi  children smoker     region     charges\n",
       "1333   50    male  30.97         3     no  northwest  10600.5483\n",
       "1334   18  female  31.92         0     no  northeast   2205.9808\n",
       "1335   18  female  36.85         0     no  southeast   1629.8335\n",
       "1336   21  female  25.80         0     no  southwest   2007.9450\n",
       "1337   61  female  29.07         0    yes  northwest  29141.3603"
      ]
     },
     "execution_count": 901,
     "metadata": {},
     "output_type": "execute_result"
    }
   ],
   "source": [
    "df.tail(5) #last 5 records of the data"
   ]
  },
  {
   "cell_type": "code",
   "execution_count": 903,
   "id": "267338b9-7652-484d-ac2a-5f56b1b9b031",
   "metadata": {},
   "outputs": [
    {
     "data": {
      "text/plain": [
       "1338"
      ]
     },
     "execution_count": 903,
     "metadata": {},
     "output_type": "execute_result"
    }
   ],
   "source": [
    "len(df) #Checking if the length of the data is the same as the one in excel"
   ]
  },
  {
   "cell_type": "code",
   "execution_count": 905,
   "id": "927c61b1-9ed4-4305-8113-8e64e176763d",
   "metadata": {},
   "outputs": [
    {
     "data": {
      "text/plain": [
       "(1338, 7)"
      ]
     },
     "execution_count": 905,
     "metadata": {},
     "output_type": "execute_result"
    }
   ],
   "source": [
    "df.shape #We have 1338 rows and 7 columns"
   ]
  },
  {
   "cell_type": "code",
   "execution_count": 907,
   "id": "1fa8bcd6-34be-4f8f-9135-d0860f6e696d",
   "metadata": {},
   "outputs": [
    {
     "data": {
      "text/plain": [
       "1"
      ]
     },
     "execution_count": 907,
     "metadata": {},
     "output_type": "execute_result"
    }
   ],
   "source": [
    "df_duplicates = (df.duplicated() == True).sum() #Checking for the number of duplicates in our dataframe\n",
    "df_duplicates"
   ]
  },
  {
   "cell_type": "code",
   "execution_count": 909,
   "id": "107784b9-78c2-445c-8485-d74eeb0dd76f",
   "metadata": {},
   "outputs": [
    {
     "data": {
      "text/html": [
       "<div>\n",
       "<style scoped>\n",
       "    .dataframe tbody tr th:only-of-type {\n",
       "        vertical-align: middle;\n",
       "    }\n",
       "\n",
       "    .dataframe tbody tr th {\n",
       "        vertical-align: top;\n",
       "    }\n",
       "\n",
       "    .dataframe thead th {\n",
       "        text-align: right;\n",
       "    }\n",
       "</style>\n",
       "<table border=\"1\" class=\"dataframe\">\n",
       "  <thead>\n",
       "    <tr style=\"text-align: right;\">\n",
       "      <th></th>\n",
       "      <th>age</th>\n",
       "      <th>sex</th>\n",
       "      <th>bmi</th>\n",
       "      <th>children</th>\n",
       "      <th>smoker</th>\n",
       "      <th>region</th>\n",
       "      <th>charges</th>\n",
       "    </tr>\n",
       "  </thead>\n",
       "  <tbody>\n",
       "    <tr>\n",
       "      <th>581</th>\n",
       "      <td>19</td>\n",
       "      <td>male</td>\n",
       "      <td>30.59</td>\n",
       "      <td>0</td>\n",
       "      <td>no</td>\n",
       "      <td>northwest</td>\n",
       "      <td>1639.5631</td>\n",
       "    </tr>\n",
       "  </tbody>\n",
       "</table>\n",
       "</div>"
      ],
      "text/plain": [
       "     age   sex    bmi  children smoker     region    charges\n",
       "581   19  male  30.59         0     no  northwest  1639.5631"
      ]
     },
     "execution_count": 909,
     "metadata": {},
     "output_type": "execute_result"
    }
   ],
   "source": [
    "duplicate_row = df[df.duplicated()] #Checking which index is the duplicate in\n",
    "duplicate_row"
   ]
  },
  {
   "cell_type": "code",
   "execution_count": 911,
   "id": "c3066b53-5bd8-4a6f-a95e-5fa882c0f878",
   "metadata": {},
   "outputs": [
    {
     "data": {
      "text/plain": [
       "(1337, 7)"
      ]
     },
     "execution_count": 911,
     "metadata": {},
     "output_type": "execute_result"
    }
   ],
   "source": [
    "duplicate_row = df[df.duplicated()]\n",
    "df = df.drop(index = 581) #Dropping the duplicate record\n",
    "df.shape"
   ]
  },
  {
   "cell_type": "code",
   "execution_count": 913,
   "id": "a081e8a9-3330-4f96-af02-e08c09c1b518",
   "metadata": {},
   "outputs": [
    {
     "name": "stdout",
     "output_type": "stream",
     "text": [
      "<class 'pandas.core.frame.DataFrame'>\n",
      "Index: 1337 entries, 0 to 1337\n",
      "Data columns (total 7 columns):\n",
      " #   Column    Non-Null Count  Dtype  \n",
      "---  ------    --------------  -----  \n",
      " 0   age       1337 non-null   int64  \n",
      " 1   sex       1337 non-null   object \n",
      " 2   bmi       1337 non-null   float64\n",
      " 3   children  1337 non-null   int64  \n",
      " 4   smoker    1337 non-null   object \n",
      " 5   region    1337 non-null   object \n",
      " 6   charges   1337 non-null   float64\n",
      "dtypes: float64(2), int64(2), object(3)\n",
      "memory usage: 83.6+ KB\n"
     ]
    }
   ],
   "source": [
    "df.info() #Checking if our attributes contain any nulls"
   ]
  },
  {
   "cell_type": "markdown",
   "id": "f5e0b2e5-0b84-4f19-8214-171e71f5157a",
   "metadata": {},
   "source": [
    "# Data Description\n",
    "This below results will show us the basic statistics (mean, std, count etc) of our dataset for the numerical attributes of our data which constitutes of age, bmi, children and charges."
   ]
  },
  {
   "cell_type": "code",
   "execution_count": 915,
   "id": "e8ef6bf1-8f38-480a-a65c-19af0304df53",
   "metadata": {},
   "outputs": [
    {
     "data": {
      "text/html": [
       "<div>\n",
       "<style scoped>\n",
       "    .dataframe tbody tr th:only-of-type {\n",
       "        vertical-align: middle;\n",
       "    }\n",
       "\n",
       "    .dataframe tbody tr th {\n",
       "        vertical-align: top;\n",
       "    }\n",
       "\n",
       "    .dataframe thead th {\n",
       "        text-align: right;\n",
       "    }\n",
       "</style>\n",
       "<table border=\"1\" class=\"dataframe\">\n",
       "  <thead>\n",
       "    <tr style=\"text-align: right;\">\n",
       "      <th></th>\n",
       "      <th>age</th>\n",
       "      <th>bmi</th>\n",
       "      <th>children</th>\n",
       "      <th>charges</th>\n",
       "    </tr>\n",
       "  </thead>\n",
       "  <tbody>\n",
       "    <tr>\n",
       "      <th>count</th>\n",
       "      <td>1337.000000</td>\n",
       "      <td>1337.000000</td>\n",
       "      <td>1337.000000</td>\n",
       "      <td>1337.000000</td>\n",
       "    </tr>\n",
       "    <tr>\n",
       "      <th>mean</th>\n",
       "      <td>39.222139</td>\n",
       "      <td>30.663452</td>\n",
       "      <td>1.095737</td>\n",
       "      <td>13279.121487</td>\n",
       "    </tr>\n",
       "    <tr>\n",
       "      <th>std</th>\n",
       "      <td>14.044333</td>\n",
       "      <td>6.100468</td>\n",
       "      <td>1.205571</td>\n",
       "      <td>12110.359656</td>\n",
       "    </tr>\n",
       "    <tr>\n",
       "      <th>min</th>\n",
       "      <td>18.000000</td>\n",
       "      <td>15.960000</td>\n",
       "      <td>0.000000</td>\n",
       "      <td>1121.873900</td>\n",
       "    </tr>\n",
       "    <tr>\n",
       "      <th>25%</th>\n",
       "      <td>27.000000</td>\n",
       "      <td>26.290000</td>\n",
       "      <td>0.000000</td>\n",
       "      <td>4746.344000</td>\n",
       "    </tr>\n",
       "    <tr>\n",
       "      <th>50%</th>\n",
       "      <td>39.000000</td>\n",
       "      <td>30.400000</td>\n",
       "      <td>1.000000</td>\n",
       "      <td>9386.161300</td>\n",
       "    </tr>\n",
       "    <tr>\n",
       "      <th>75%</th>\n",
       "      <td>51.000000</td>\n",
       "      <td>34.700000</td>\n",
       "      <td>2.000000</td>\n",
       "      <td>16657.717450</td>\n",
       "    </tr>\n",
       "    <tr>\n",
       "      <th>max</th>\n",
       "      <td>64.000000</td>\n",
       "      <td>53.130000</td>\n",
       "      <td>5.000000</td>\n",
       "      <td>63770.428010</td>\n",
       "    </tr>\n",
       "  </tbody>\n",
       "</table>\n",
       "</div>"
      ],
      "text/plain": [
       "               age          bmi     children       charges\n",
       "count  1337.000000  1337.000000  1337.000000   1337.000000\n",
       "mean     39.222139    30.663452     1.095737  13279.121487\n",
       "std      14.044333     6.100468     1.205571  12110.359656\n",
       "min      18.000000    15.960000     0.000000   1121.873900\n",
       "25%      27.000000    26.290000     0.000000   4746.344000\n",
       "50%      39.000000    30.400000     1.000000   9386.161300\n",
       "75%      51.000000    34.700000     2.000000  16657.717450\n",
       "max      64.000000    53.130000     5.000000  63770.428010"
      ]
     },
     "execution_count": 915,
     "metadata": {},
     "output_type": "execute_result"
    }
   ],
   "source": [
    "df.describe()"
   ]
  },
  {
   "cell_type": "markdown",
   "id": "1aa08734-43e3-4f62-99d0-2da8528a3891",
   "metadata": {},
   "source": [
    "## Variable description\n",
    "Our attributes have different data types and the below results shows each attribute with their respective datatype. The descrption of the variables can be seen below :~\n",
    "\n",
    "Age - Numerical attribute that contains the age number of the individuals in our dataset.\n",
    "\n",
    "Sex - This attribute contains the gender (male/female) of the individual.\n",
    "\n",
    "BMI -\n",
    "BMI of the individuals, this is a measure of body fat based on height and weight. Its measuring unit is kilograms per square meter (kg/m²).\n",
    "\n",
    "Children -\n",
    "Number of children the individual has.\n",
    "\n",
    "Smoker -\n",
    "This attribute is a record of whether the individuals are smokers or not (Yes or No).\n",
    "\n",
    "Region -\n",
    "Location of the individuals.\n",
    "\n",
    "Charges -\n",
    "Cost to treat these individuals."
   ]
  },
  {
   "cell_type": "code",
   "execution_count": 917,
   "id": "b3236377-404e-4e60-957b-d93c8f49cc12",
   "metadata": {},
   "outputs": [
    {
     "data": {
      "text/plain": [
       "age           int64\n",
       "sex          object\n",
       "bmi         float64\n",
       "children      int64\n",
       "smoker       object\n",
       "region       object\n",
       "charges     float64\n",
       "dtype: object"
      ]
     },
     "execution_count": 917,
     "metadata": {},
     "output_type": "execute_result"
    }
   ],
   "source": [
    "df.dtypes"
   ]
  },
  {
   "cell_type": "markdown",
   "id": "37fddd2c-b152-46e0-a4b3-62f4e5de0a05",
   "metadata": {},
   "source": [
    "## Correlation\n",
    "Before we implement the correlation among the attributes, we first need to convert attributes that contain categorical data to numerical data. This will allow us to show the correlation of each and every attribute that we have in the dataset.\n",
    "\n",
    "The below cell traverses through all the columns that we have and checks all the columns that are non-numerical (objects). Then the conversion of those non-numerical (objects) columns is done by our encoder.\n",
    "\n",
    "Note : The printed results now show the new values in all the columns that were initially categorical."
   ]
  },
  {
   "cell_type": "code",
   "execution_count": 919,
   "id": "4175f61a-8b05-4ca2-96a2-210c8656b83c",
   "metadata": {},
   "outputs": [
    {
     "name": "stdout",
     "output_type": "stream",
     "text": [
      "sex\n",
      "[[1. 0.]\n",
      " [0. 1.]\n",
      " [0. 1.]\n",
      " ...\n",
      " [1. 0.]\n",
      " [1. 0.]\n",
      " [1. 0.]]\n",
      "\n",
      "smoker\n",
      "[[0. 1.]\n",
      " [1. 0.]\n",
      " [1. 0.]\n",
      " ...\n",
      " [1. 0.]\n",
      " [1. 0.]\n",
      " [0. 1.]]\n",
      "\n",
      "region\n",
      "[[0. 0. 0. 1.]\n",
      " [0. 0. 1. 0.]\n",
      " [0. 0. 1. 0.]\n",
      " ...\n",
      " [0. 0. 1. 0.]\n",
      " [0. 0. 0. 1.]\n",
      " [0. 1. 0. 0.]]\n",
      "\n"
     ]
    }
   ],
   "source": [
    "for attribute in df.columns:\n",
    "    if df[attribute].dtype == \"object\": #Checking for datatypes that are non-numerical\n",
    "        attribute_encoder = OneHotEncoder(sparse_output=False) #Creating a one-hot-encoder\n",
    "        attribute_encoded = attribute_encoder.fit_transform(df[[attribute]]) #transforming all the categorical columns\n",
    "        df[attribute] = attribute_encoded\n",
    "        print(str(attribute))\n",
    "        print(attribute_encoded)\n",
    "        print()"
   ]
  },
  {
   "cell_type": "code",
   "execution_count": 921,
   "id": "ff4b5f04-4ce6-4e0c-b9a9-70dfd78068fa",
   "metadata": {},
   "outputs": [
    {
     "name": "stdout",
     "output_type": "stream",
     "text": [
      "\n"
     ]
    }
   ],
   "source": [
    "print()"
   ]
  },
  {
   "cell_type": "markdown",
   "id": "7cf1f7ce-e7bd-4eaf-a2d2-a1f1c5b52ecf",
   "metadata": {},
   "source": [
    "All the attributes of the dataframe now have numerical data as can be seen in the first 20 records of the dataframe below."
   ]
  },
  {
   "cell_type": "code",
   "execution_count": 923,
   "id": "4c6c63f8-1d21-485a-beee-0d79da3f3fea",
   "metadata": {},
   "outputs": [
    {
     "data": {
      "text/html": [
       "<div>\n",
       "<style scoped>\n",
       "    .dataframe tbody tr th:only-of-type {\n",
       "        vertical-align: middle;\n",
       "    }\n",
       "\n",
       "    .dataframe tbody tr th {\n",
       "        vertical-align: top;\n",
       "    }\n",
       "\n",
       "    .dataframe thead th {\n",
       "        text-align: right;\n",
       "    }\n",
       "</style>\n",
       "<table border=\"1\" class=\"dataframe\">\n",
       "  <thead>\n",
       "    <tr style=\"text-align: right;\">\n",
       "      <th></th>\n",
       "      <th>age</th>\n",
       "      <th>sex</th>\n",
       "      <th>bmi</th>\n",
       "      <th>children</th>\n",
       "      <th>smoker</th>\n",
       "      <th>region</th>\n",
       "      <th>charges</th>\n",
       "    </tr>\n",
       "  </thead>\n",
       "  <tbody>\n",
       "    <tr>\n",
       "      <th>0</th>\n",
       "      <td>19</td>\n",
       "      <td>1.0</td>\n",
       "      <td>27.900</td>\n",
       "      <td>0</td>\n",
       "      <td>0.0</td>\n",
       "      <td>0.0</td>\n",
       "      <td>16884.92400</td>\n",
       "    </tr>\n",
       "    <tr>\n",
       "      <th>1</th>\n",
       "      <td>18</td>\n",
       "      <td>0.0</td>\n",
       "      <td>33.770</td>\n",
       "      <td>1</td>\n",
       "      <td>1.0</td>\n",
       "      <td>0.0</td>\n",
       "      <td>1725.55230</td>\n",
       "    </tr>\n",
       "    <tr>\n",
       "      <th>2</th>\n",
       "      <td>28</td>\n",
       "      <td>0.0</td>\n",
       "      <td>33.000</td>\n",
       "      <td>3</td>\n",
       "      <td>1.0</td>\n",
       "      <td>0.0</td>\n",
       "      <td>4449.46200</td>\n",
       "    </tr>\n",
       "    <tr>\n",
       "      <th>3</th>\n",
       "      <td>33</td>\n",
       "      <td>0.0</td>\n",
       "      <td>22.705</td>\n",
       "      <td>0</td>\n",
       "      <td>1.0</td>\n",
       "      <td>0.0</td>\n",
       "      <td>21984.47061</td>\n",
       "    </tr>\n",
       "    <tr>\n",
       "      <th>4</th>\n",
       "      <td>32</td>\n",
       "      <td>0.0</td>\n",
       "      <td>28.880</td>\n",
       "      <td>0</td>\n",
       "      <td>1.0</td>\n",
       "      <td>0.0</td>\n",
       "      <td>3866.85520</td>\n",
       "    </tr>\n",
       "    <tr>\n",
       "      <th>5</th>\n",
       "      <td>31</td>\n",
       "      <td>1.0</td>\n",
       "      <td>25.740</td>\n",
       "      <td>0</td>\n",
       "      <td>1.0</td>\n",
       "      <td>0.0</td>\n",
       "      <td>3756.62160</td>\n",
       "    </tr>\n",
       "    <tr>\n",
       "      <th>6</th>\n",
       "      <td>46</td>\n",
       "      <td>1.0</td>\n",
       "      <td>33.440</td>\n",
       "      <td>1</td>\n",
       "      <td>1.0</td>\n",
       "      <td>0.0</td>\n",
       "      <td>8240.58960</td>\n",
       "    </tr>\n",
       "    <tr>\n",
       "      <th>7</th>\n",
       "      <td>37</td>\n",
       "      <td>1.0</td>\n",
       "      <td>27.740</td>\n",
       "      <td>3</td>\n",
       "      <td>1.0</td>\n",
       "      <td>0.0</td>\n",
       "      <td>7281.50560</td>\n",
       "    </tr>\n",
       "    <tr>\n",
       "      <th>8</th>\n",
       "      <td>37</td>\n",
       "      <td>0.0</td>\n",
       "      <td>29.830</td>\n",
       "      <td>2</td>\n",
       "      <td>1.0</td>\n",
       "      <td>1.0</td>\n",
       "      <td>6406.41070</td>\n",
       "    </tr>\n",
       "    <tr>\n",
       "      <th>9</th>\n",
       "      <td>60</td>\n",
       "      <td>1.0</td>\n",
       "      <td>25.840</td>\n",
       "      <td>0</td>\n",
       "      <td>1.0</td>\n",
       "      <td>0.0</td>\n",
       "      <td>28923.13692</td>\n",
       "    </tr>\n",
       "    <tr>\n",
       "      <th>10</th>\n",
       "      <td>25</td>\n",
       "      <td>0.0</td>\n",
       "      <td>26.220</td>\n",
       "      <td>0</td>\n",
       "      <td>1.0</td>\n",
       "      <td>1.0</td>\n",
       "      <td>2721.32080</td>\n",
       "    </tr>\n",
       "    <tr>\n",
       "      <th>11</th>\n",
       "      <td>62</td>\n",
       "      <td>1.0</td>\n",
       "      <td>26.290</td>\n",
       "      <td>0</td>\n",
       "      <td>0.0</td>\n",
       "      <td>0.0</td>\n",
       "      <td>27808.72510</td>\n",
       "    </tr>\n",
       "    <tr>\n",
       "      <th>12</th>\n",
       "      <td>23</td>\n",
       "      <td>0.0</td>\n",
       "      <td>34.400</td>\n",
       "      <td>0</td>\n",
       "      <td>1.0</td>\n",
       "      <td>0.0</td>\n",
       "      <td>1826.84300</td>\n",
       "    </tr>\n",
       "    <tr>\n",
       "      <th>13</th>\n",
       "      <td>56</td>\n",
       "      <td>1.0</td>\n",
       "      <td>39.820</td>\n",
       "      <td>0</td>\n",
       "      <td>1.0</td>\n",
       "      <td>0.0</td>\n",
       "      <td>11090.71780</td>\n",
       "    </tr>\n",
       "    <tr>\n",
       "      <th>14</th>\n",
       "      <td>27</td>\n",
       "      <td>0.0</td>\n",
       "      <td>42.130</td>\n",
       "      <td>0</td>\n",
       "      <td>0.0</td>\n",
       "      <td>0.0</td>\n",
       "      <td>39611.75770</td>\n",
       "    </tr>\n",
       "    <tr>\n",
       "      <th>15</th>\n",
       "      <td>19</td>\n",
       "      <td>0.0</td>\n",
       "      <td>24.600</td>\n",
       "      <td>1</td>\n",
       "      <td>1.0</td>\n",
       "      <td>0.0</td>\n",
       "      <td>1837.23700</td>\n",
       "    </tr>\n",
       "    <tr>\n",
       "      <th>16</th>\n",
       "      <td>52</td>\n",
       "      <td>1.0</td>\n",
       "      <td>30.780</td>\n",
       "      <td>1</td>\n",
       "      <td>1.0</td>\n",
       "      <td>1.0</td>\n",
       "      <td>10797.33620</td>\n",
       "    </tr>\n",
       "    <tr>\n",
       "      <th>17</th>\n",
       "      <td>23</td>\n",
       "      <td>0.0</td>\n",
       "      <td>23.845</td>\n",
       "      <td>0</td>\n",
       "      <td>1.0</td>\n",
       "      <td>1.0</td>\n",
       "      <td>2395.17155</td>\n",
       "    </tr>\n",
       "    <tr>\n",
       "      <th>18</th>\n",
       "      <td>56</td>\n",
       "      <td>0.0</td>\n",
       "      <td>40.300</td>\n",
       "      <td>0</td>\n",
       "      <td>1.0</td>\n",
       "      <td>0.0</td>\n",
       "      <td>10602.38500</td>\n",
       "    </tr>\n",
       "    <tr>\n",
       "      <th>19</th>\n",
       "      <td>30</td>\n",
       "      <td>0.0</td>\n",
       "      <td>35.300</td>\n",
       "      <td>0</td>\n",
       "      <td>0.0</td>\n",
       "      <td>0.0</td>\n",
       "      <td>36837.46700</td>\n",
       "    </tr>\n",
       "  </tbody>\n",
       "</table>\n",
       "</div>"
      ],
      "text/plain": [
       "    age  sex     bmi  children  smoker  region      charges\n",
       "0    19  1.0  27.900         0     0.0     0.0  16884.92400\n",
       "1    18  0.0  33.770         1     1.0     0.0   1725.55230\n",
       "2    28  0.0  33.000         3     1.0     0.0   4449.46200\n",
       "3    33  0.0  22.705         0     1.0     0.0  21984.47061\n",
       "4    32  0.0  28.880         0     1.0     0.0   3866.85520\n",
       "5    31  1.0  25.740         0     1.0     0.0   3756.62160\n",
       "6    46  1.0  33.440         1     1.0     0.0   8240.58960\n",
       "7    37  1.0  27.740         3     1.0     0.0   7281.50560\n",
       "8    37  0.0  29.830         2     1.0     1.0   6406.41070\n",
       "9    60  1.0  25.840         0     1.0     0.0  28923.13692\n",
       "10   25  0.0  26.220         0     1.0     1.0   2721.32080\n",
       "11   62  1.0  26.290         0     0.0     0.0  27808.72510\n",
       "12   23  0.0  34.400         0     1.0     0.0   1826.84300\n",
       "13   56  1.0  39.820         0     1.0     0.0  11090.71780\n",
       "14   27  0.0  42.130         0     0.0     0.0  39611.75770\n",
       "15   19  0.0  24.600         1     1.0     0.0   1837.23700\n",
       "16   52  1.0  30.780         1     1.0     1.0  10797.33620\n",
       "17   23  0.0  23.845         0     1.0     1.0   2395.17155\n",
       "18   56  0.0  40.300         0     1.0     0.0  10602.38500\n",
       "19   30  0.0  35.300         0     0.0     0.0  36837.46700"
      ]
     },
     "execution_count": 923,
     "metadata": {},
     "output_type": "execute_result"
    }
   ],
   "source": [
    "df.head(20)\n",
    "# df"
   ]
  },
  {
   "cell_type": "code",
   "execution_count": 925,
   "id": "b4824b66-f52b-4e2d-8b73-152cc2c007d7",
   "metadata": {},
   "outputs": [
    {
     "data": {
      "text/html": [
       "<div>\n",
       "<style scoped>\n",
       "    .dataframe tbody tr th:only-of-type {\n",
       "        vertical-align: middle;\n",
       "    }\n",
       "\n",
       "    .dataframe tbody tr th {\n",
       "        vertical-align: top;\n",
       "    }\n",
       "\n",
       "    .dataframe thead th {\n",
       "        text-align: right;\n",
       "    }\n",
       "</style>\n",
       "<table border=\"1\" class=\"dataframe\">\n",
       "  <thead>\n",
       "    <tr style=\"text-align: right;\">\n",
       "      <th></th>\n",
       "      <th>age</th>\n",
       "      <th>sex</th>\n",
       "      <th>bmi</th>\n",
       "      <th>children</th>\n",
       "      <th>smoker</th>\n",
       "      <th>region</th>\n",
       "      <th>charges</th>\n",
       "    </tr>\n",
       "  </thead>\n",
       "  <tbody>\n",
       "    <tr>\n",
       "      <th>count</th>\n",
       "      <td>1337.000000</td>\n",
       "      <td>1337.000000</td>\n",
       "      <td>1337.000000</td>\n",
       "      <td>1337.000000</td>\n",
       "      <td>1337.000000</td>\n",
       "      <td>1337.000000</td>\n",
       "      <td>1337.000000</td>\n",
       "    </tr>\n",
       "    <tr>\n",
       "      <th>mean</th>\n",
       "      <td>39.222139</td>\n",
       "      <td>0.242334</td>\n",
       "      <td>30.663452</td>\n",
       "      <td>1.095737</td>\n",
       "      <td>0.272251</td>\n",
       "      <td>0.242334</td>\n",
       "      <td>13279.121487</td>\n",
       "    </tr>\n",
       "    <tr>\n",
       "      <th>std</th>\n",
       "      <td>14.044333</td>\n",
       "      <td>0.428655</td>\n",
       "      <td>6.100468</td>\n",
       "      <td>1.205571</td>\n",
       "      <td>0.445285</td>\n",
       "      <td>0.428655</td>\n",
       "      <td>12110.359656</td>\n",
       "    </tr>\n",
       "    <tr>\n",
       "      <th>min</th>\n",
       "      <td>18.000000</td>\n",
       "      <td>0.000000</td>\n",
       "      <td>15.960000</td>\n",
       "      <td>0.000000</td>\n",
       "      <td>0.000000</td>\n",
       "      <td>0.000000</td>\n",
       "      <td>1121.873900</td>\n",
       "    </tr>\n",
       "    <tr>\n",
       "      <th>25%</th>\n",
       "      <td>27.000000</td>\n",
       "      <td>0.000000</td>\n",
       "      <td>26.290000</td>\n",
       "      <td>0.000000</td>\n",
       "      <td>0.000000</td>\n",
       "      <td>0.000000</td>\n",
       "      <td>4746.344000</td>\n",
       "    </tr>\n",
       "    <tr>\n",
       "      <th>50%</th>\n",
       "      <td>39.000000</td>\n",
       "      <td>0.000000</td>\n",
       "      <td>30.400000</td>\n",
       "      <td>1.000000</td>\n",
       "      <td>0.000000</td>\n",
       "      <td>0.000000</td>\n",
       "      <td>9386.161300</td>\n",
       "    </tr>\n",
       "    <tr>\n",
       "      <th>75%</th>\n",
       "      <td>51.000000</td>\n",
       "      <td>0.000000</td>\n",
       "      <td>34.700000</td>\n",
       "      <td>2.000000</td>\n",
       "      <td>1.000000</td>\n",
       "      <td>0.000000</td>\n",
       "      <td>16657.717450</td>\n",
       "    </tr>\n",
       "    <tr>\n",
       "      <th>max</th>\n",
       "      <td>64.000000</td>\n",
       "      <td>1.000000</td>\n",
       "      <td>53.130000</td>\n",
       "      <td>5.000000</td>\n",
       "      <td>1.000000</td>\n",
       "      <td>1.000000</td>\n",
       "      <td>63770.428010</td>\n",
       "    </tr>\n",
       "  </tbody>\n",
       "</table>\n",
       "</div>"
      ],
      "text/plain": [
       "               age          sex          bmi     children       smoker  \\\n",
       "count  1337.000000  1337.000000  1337.000000  1337.000000  1337.000000   \n",
       "mean     39.222139     0.242334    30.663452     1.095737     0.272251   \n",
       "std      14.044333     0.428655     6.100468     1.205571     0.445285   \n",
       "min      18.000000     0.000000    15.960000     0.000000     0.000000   \n",
       "25%      27.000000     0.000000    26.290000     0.000000     0.000000   \n",
       "50%      39.000000     0.000000    30.400000     1.000000     0.000000   \n",
       "75%      51.000000     0.000000    34.700000     2.000000     1.000000   \n",
       "max      64.000000     1.000000    53.130000     5.000000     1.000000   \n",
       "\n",
       "            region       charges  \n",
       "count  1337.000000   1337.000000  \n",
       "mean      0.242334  13279.121487  \n",
       "std       0.428655  12110.359656  \n",
       "min       0.000000   1121.873900  \n",
       "25%       0.000000   4746.344000  \n",
       "50%       0.000000   9386.161300  \n",
       "75%       0.000000  16657.717450  \n",
       "max       1.000000  63770.428010  "
      ]
     },
     "execution_count": 925,
     "metadata": {},
     "output_type": "execute_result"
    }
   ],
   "source": [
    "df.describe() #Basic statistics post categorical conversion"
   ]
  },
  {
   "cell_type": "code",
   "execution_count": 927,
   "id": "630ffec5-ce7a-4379-adb8-e6bfabe18dc6",
   "metadata": {},
   "outputs": [],
   "source": [
    "correlation = df[[\"age\", \"sex\", \"bmi\", \"children\", \"smoker\", \"region\", \"charges\"]].corr() #Determing the correlation of the attributes\n",
    "# correlation"
   ]
  },
  {
   "cell_type": "code",
   "execution_count": 1001,
   "id": "4074c2ac-ae8d-48d8-9c68-18b786a178d9",
   "metadata": {},
   "outputs": [
    {
     "data": {
      "image/png": "[encoded data removed]",
      "text/plain": [
       "<Figure size 640x480 with 2 Axes>"
      ]
     },
     "metadata": {},
     "output_type": "display_data"
    }
   ],
   "source": [
    "sns.heatmap(correlation, annot = True)\n",
    "plt.savefig(\"correlation_heatmap.png\", dpi=300, bbox_inches=\"tight\")"
   ]
  },
  {
   "cell_type": "markdown",
   "id": "a3524019-3488-418f-afb7-c6f9c7dd2b50",
   "metadata": {},
   "source": [
    "## Distribution of Gender, Age, Chargers and Smokers"
   ]
  },
  {
   "cell_type": "markdown",
   "id": "39542935-4e3b-42e0-94b0-8adaddbdd9b1",
   "metadata": {},
   "source": [
    "### Sex\n",
    "If we can recall, the \"sex\" attribute contained only two binary recordings which are male or female. So the distribution is bound to have two bars to classify both categories as can be seen below. It is important to note that after we transformed our categorical data to numerical data, the males are identified as \"0.1\" and females are identified as \"1.0\". The two observations have almost the same frequency, therefore there is no skewness in this attribute as both of these categories are balanced."
   ]
  },
  {
   "cell_type": "code",
   "execution_count": 1003,
   "id": "c13135af-373e-4bf7-b3fb-7f651dfdef96",
   "metadata": {},
   "outputs": [
    {
     "data": {
      "image/png": "[encoded data removed]",
      "text/plain": [
       "<Figure size 640x480 with 1 Axes>"
      ]
     },
     "metadata": {},
     "output_type": "display_data"
    }
   ],
   "source": [
    "df[\"sex\"].plot(kind=\"hist\", bins=10, title=\"Sex\")\n",
    "plt.savefig(\"sex.png\", dpi=300, bbox_inches=\"tight\")\n",
    "# plt.hist(df[\"sex\"], facecolor=\"green\", bins=20,histtype=\"stepfilled\",alpha=1,density=True,cumulative=False,edgecolor='black',label='Original')"
   ]
  },
  {
   "cell_type": "markdown",
   "id": "a100e12e-9953-4028-b1ac-9d42f56ce0df",
   "metadata": {},
   "source": [
    "### Age\n",
    "This attribute ranges from the ages of 18 to roughly 66. There is a huge spike within the ages of early twenties that is followed by a decline that is evenly balanced in the older ages consistently. This distribution signifies that this dataset contains a lot of young individuals in their early twenties, and this attribute is positively skewed hence the older age groups are distributed evenly but are not greater than the frequency of those in the early twenties."
   ]
  },
  {
   "cell_type": "code",
   "execution_count": 1007,
   "id": "9dc17a91-393d-4ce5-b8b9-2b1d0815178e",
   "metadata": {},
   "outputs": [
    {
     "data": {
      "image/png": "[encoded data removed]",
      "text/plain": [
       "<Figure size 640x480 with 1 Axes>"
      ]
     },
     "metadata": {},
     "output_type": "display_data"
    }
   ],
   "source": [
    "df[\"age\"].plot(kind=\"hist\", bins=10, title=\"Age\")\n",
    "plt.savefig(\"age.png\", dpi=300, bbox_inches=\"tight\")"
   ]
  },
  {
   "cell_type": "markdown",
   "id": "18e0a018-21d3-4fd6-babb-275d686a3c42",
   "metadata": {},
   "source": [
    "### Charges\n",
    "As can be seen below, the charges in our dataset ranges from 0 - 60000. This attribute is skewed to the right hence most of the data is congested towards the lower end, this signifies that there is a fewer occurences of higher medical bills in comparsion to lower medical bills."
   ]
  },
  {
   "cell_type": "code",
   "execution_count": 1009,
   "id": "c1413ad4-a3bd-4707-b0a1-01eb449c6343",
   "metadata": {},
   "outputs": [
    {
     "data": {
      "image/png": "[encoded data removed]",
      "text/plain": [
       "<Figure size 640x480 with 1 Axes>"
      ]
     },
     "metadata": {},
     "output_type": "display_data"
    }
   ],
   "source": [
    "df[\"charges\"].plot(kind=\"hist\", bins=15, title=\"Charges\")\n",
    "plt.savefig(\"charges.png\", dpi=300, bbox_inches=\"tight\")"
   ]
  },
  {
   "cell_type": "markdown",
   "id": "a58ca0e6-b855-46e8-a590-c4b38e7ef4d0",
   "metadata": {},
   "source": [
    "### Smokers\n",
    "This is a binary attribute that contains \"Yes\" or \"No\" recordings, after the transformation (categorical to numerical), \"Yes\" is now classified as \"0.1\" and \"No\" is classified as \"1.0\". The below distribution of this attribute shows us that we have a lower number of smokers (roughly 250) and huge number of non-smokers (over 1000). "
   ]
  },
  {
   "cell_type": "code",
   "execution_count": 1005,
   "id": "2774b5e6-a1d7-4229-b8eb-0dc33fa51dbb",
   "metadata": {},
   "outputs": [
    {
     "data": {
      "image/png": "[encoded data removed]",
      "text/plain": [
       "<Figure size 640x480 with 1 Axes>"
      ]
     },
     "metadata": {},
     "output_type": "display_data"
    }
   ],
   "source": [
    "df[\"smoker\"].plot(kind=\"hist\", bins=10, title=\"Smoker\")\n",
    "plt.savefig(\"smoker.png\", dpi=300, bbox_inches=\"tight\")"
   ]
  },
  {
   "cell_type": "markdown",
   "id": "8698a838-1900-448d-8b8a-66a3c93d0a2a",
   "metadata": {},
   "source": [
    "## Distribution of Medical Cost between Males and Females\n",
    "The distribution of the medical cost between males and females is almost identical, they just have a few overlaps here and there. They are both skewed to the right hence both genders have a lower frequency when moving towards the higher charges."
   ]
  },
  {
   "cell_type": "code",
   "execution_count": 1011,
   "id": "83449616-d897-4eff-b71b-10f7981782e4",
   "metadata": {},
   "outputs": [
    {
     "data": {
      "image/png": "[encoded data removed]",
      "text/plain": [
       "<Figure size 640x480 with 1 Axes>"
      ]
     },
     "metadata": {},
     "output_type": "display_data"
    }
   ],
   "source": [
    "# df[df[\"sex\"] == 1]\n",
    "df[df[\"sex\"] == 0][\"charges\"].plot(kind=\"hist\", bins=15, alpha=0.5, label=\"Male\", color=\"blue\")\n",
    "df[df[\"sex\"] == 1][\"charges\"].plot(kind=\"hist\", bins=15, alpha=0.5, label=\"Female\", color=\"red\")\n",
    "\n",
    "plt.title(\"Distribution of Charges by between Male and Female\")\n",
    "plt.xlabel(\"Charges\")\n",
    "plt.ylabel(\"Frequency\")\n",
    "plt.legend()\n",
    "plt.savefig(\"medical_cost.png\", dpi=300, bbox_inches=\"tight\")\n",
    "plt.show()"
   ]
  },
  {
   "cell_type": "markdown",
   "id": "4c4534a0-fa22-4075-b4d6-141f48d9ab4f",
   "metadata": {},
   "source": [
    "## Regression Line on Age and Medical Costs\n",
    "As can be seen below, this regression line has a fewer vectors that are within the line itself, hence some of the vectors are leaning towards the line meaning there is less error and some are further away from the line meaning a larger error. This signifies that there is some form of correlation between age and charges but it does not have that much greater effect."
   ]
  },
  {
   "cell_type": "code",
   "execution_count": 1013,
   "id": "eca6b3c1-3a8e-4523-8fd0-bb43c576dea1",
   "metadata": {},
   "outputs": [
    {
     "data": {
      "image/png": "[encoded data removed]",
      "text/plain": [
       "<Figure size 1200x600 with 1 Axes>"
      ]
     },
     "metadata": {},
     "output_type": "display_data"
    }
   ],
   "source": [
    "sns.lmplot(x=\"age\", y=\"charges\", data=df, aspect=2, height=6, line_kws={\"color\": \"black\"})\n",
    "plt.title(\"Regression Line between Age and Charges\")\n",
    "plt.xlabel(\"Age\")\n",
    "plt.ylabel(\"Charges\")\n",
    "plt.savefig(\"medical_cost.png\", dpi=300, bbox_inches=\"tight\")"
   ]
  },
  {
   "cell_type": "markdown",
   "id": "60098260-86d6-48ce-a2b9-14564b0bbe20",
   "metadata": {},
   "source": [
    "## Linear Regression Model\n",
    "There are a few steps that are going to be considered before the development of this model, these steps include the selection of features, data normalization,and splitting of the data into training and testing."
   ]
  },
  {
   "cell_type": "markdown",
   "id": "f75df0c3-95db-4e4e-a336-49e1827012ab",
   "metadata": {},
   "source": [
    "#### Feature Selection\n",
    "The goal of the model is to predict medical costs, these medical cost in our dataset are reffered to as \"charges\". Therefore we need features that will exclude our target \"charges\" when we declare the features X, hence that column is dropped. The column \"charges\" is also declared as the target y, hence its the one being predicted."
   ]
  },
  {
   "cell_type": "code",
   "execution_count": 983,
   "id": "8787df0a-7c7f-4406-8532-02c7a9929be7",
   "metadata": {},
   "outputs": [],
   "source": [
    "X = df.drop([\"charges\"], axis=1) #Features\n",
    "y = df.loc[:,df.columns == \"charges\"] #Target, which is the medical cost\n",
    "# X.head()\n",
    "# y.head()"
   ]
  },
  {
   "cell_type": "markdown",
   "id": "0af47613-6a36-4a50-84a7-213c0aae8cf1",
   "metadata": {},
   "source": [
    "#### Data Normalization\n",
    "The values of the features in some attributes are a bit out of scale in comparison to other feature values, so in order to ensure that all features contribute equally to the model, the normalization of all features is needed. The implementation of a Max-Min normalization for the features is implemented below."
   ]
  },
  {
   "cell_type": "code",
   "execution_count": 985,
   "id": "88b924a9-9d03-493a-8e19-85d2c791f106",
   "metadata": {},
   "outputs": [
    {
     "name": "stdout",
     "output_type": "stream",
     "text": [
      "[[0.02173913 1.         0.3212268  0.         0.         0.        ]\n",
      " [0.         0.         0.47914985 0.2        1.         0.        ]\n",
      " [0.2173913  0.         0.45843422 0.6        1.         0.        ]\n",
      " ...\n",
      " [0.         1.         0.56201238 0.         1.         0.        ]\n",
      " [0.06521739 1.         0.26472962 0.         1.         0.        ]\n",
      " [0.93478261 1.         0.35270379 0.         0.         0.        ]]\n"
     ]
    }
   ],
   "source": [
    "#Preprocessing our data\n",
    "x_scaler = MinMaxScaler() #Defining our scaler\n",
    "x_scaled = x_scaler.fit_transform(X) #Scaling our features\n",
    "X = x_scaled\n",
    "print(X)"
   ]
  },
  {
   "cell_type": "markdown",
   "id": "c4e66939-a550-4ce3-aebc-aae9b844af7a",
   "metadata": {},
   "source": [
    "#### Data splitting\n",
    "The data is splitted into 80% of training data and 20% of testing data."
   ]
  },
  {
   "cell_type": "code",
   "execution_count": 987,
   "id": "8396e9d9-4493-4866-8025-a06316cf5dec",
   "metadata": {},
   "outputs": [
    {
     "name": "stdout",
     "output_type": "stream",
     "text": [
      "(1069, 6) (1069, 1)\n",
      "(268, 6) (268, 1)\n"
     ]
    }
   ],
   "source": [
    "X_train, X_test, y_train, y_test = train_test_split(X, y, test_size=0.2) #80% training, 20% testing\n",
    "print(X_train.shape, y_train.shape)\n",
    "print(X_test.shape, y_test.shape)"
   ]
  },
  {
   "cell_type": "markdown",
   "id": "33c8529b-5d50-45f6-89d0-847b682ec1bf",
   "metadata": {},
   "source": [
    "#### Model creation\n",
    "The linear regression model is created and it is trained using the training data that was declared before. It is then tested by predicting X_testing y values, the predicted values are printed below."
   ]
  },
  {
   "cell_type": "code",
   "execution_count": 989,
   "id": "5623261e-00e3-4b49-8b0a-504ea5f52cb1",
   "metadata": {},
   "outputs": [
    {
     "name": "stdout",
     "output_type": "stream",
     "text": [
      "[[ 3503.33137908]\n",
      " [ 8568.37575269]\n",
      " [ 3925.76412146]\n",
      " [11755.31451534]\n",
      " [26339.65676003]\n",
      " [ 8999.52576214]\n",
      " [13919.50983596]\n",
      " [ 9476.13923353]\n",
      " [14332.71230938]\n",
      " [28995.86453336]\n",
      " [ 8695.62808321]\n",
      " [ 8345.24976396]\n",
      " [ 2564.28075313]\n",
      " [15304.29584337]\n",
      " [29588.07595085]\n",
      " [16248.15633228]\n",
      " [31614.42280263]\n",
      " [30403.76459219]\n",
      " [ 6329.21373883]\n",
      " [ 6895.88249686]\n",
      " [ 9949.06591031]\n",
      " [28649.91996845]\n",
      " [15295.88623407]\n",
      " [  939.53095875]\n",
      " [ 5413.36790464]\n",
      " [10390.3835593 ]\n",
      " [ 1231.36700349]\n",
      " [29069.46981942]\n",
      " [33953.06257575]\n",
      " [ 7363.48346704]\n",
      " [ 6932.28986246]\n",
      " [ 5488.91351062]\n",
      " [10660.40463457]\n",
      " [19161.08121812]\n",
      " [38101.44121202]\n",
      " [11760.1920642 ]\n",
      " [11752.35957483]\n",
      " [17253.48303294]\n",
      " [14155.86954378]\n",
      " [ 8797.95503085]\n",
      " [ 5786.36239682]\n",
      " [ 5254.86483182]\n",
      " [ 6205.56894372]\n",
      " [ 4056.61082504]\n",
      " [16462.67799841]\n",
      " [10951.05166972]\n",
      " [ 4528.29429666]\n",
      " [ 7424.65011181]\n",
      " [13307.96808427]\n",
      " [12233.65751484]\n",
      " [ 6371.76313786]\n",
      " [10612.9012566 ]\n",
      " [ 9697.67166267]\n",
      " [39837.32404443]\n",
      " [11780.38757791]\n",
      " [ 8683.49709969]\n",
      " [ 7377.24455492]\n",
      " [16439.69111638]\n",
      " [11617.14399145]\n",
      " [ 6888.05630548]\n",
      " [ 3909.66445754]\n",
      " [11804.54112343]\n",
      " [ 8854.51431503]\n",
      " [14147.66542058]\n",
      " [33010.43719271]\n",
      " [ 1144.3893038 ]\n",
      " [31461.60911293]\n",
      " [ 3337.38449112]\n",
      " [32046.92881974]\n",
      " [10771.69329596]\n",
      " [14872.35527907]\n",
      " [ 8905.58266959]\n",
      " [ 7023.95039772]\n",
      " [31903.69589539]\n",
      " [11755.58577031]\n",
      " [ 4237.03537184]\n",
      " [ 6852.32744874]\n",
      " [ 2504.74151296]\n",
      " [12258.49319371]\n",
      " [ 6776.94900905]\n",
      " [ 7450.94406382]\n",
      " [ 4588.93804745]\n",
      " [10824.92423075]\n",
      " [12046.06207133]\n",
      " [ 8495.45167525]\n",
      " [16462.51623165]\n",
      " [ 5780.47560064]\n",
      " [ 4728.90837351]\n",
      " [ 8769.91983544]\n",
      " [11386.00951754]\n",
      " [10141.61980757]\n",
      " [11647.10793346]\n",
      " [11468.20400281]\n",
      " [ 6642.15327141]\n",
      " [ 4011.94244091]\n",
      " [10319.53939479]\n",
      " [  588.14594996]\n",
      " [12413.16076956]\n",
      " [29979.74548256]\n",
      " [36728.25013179]\n",
      " [38614.71995563]\n",
      " [29702.32674507]\n",
      " [ 6151.13494263]\n",
      " [ 9939.32157276]\n",
      " [  -68.11663677]\n",
      " [ 2798.03419779]\n",
      " [27739.7669999 ]\n",
      " [ 6983.63292826]\n",
      " [10654.69920334]\n",
      " [ 2471.60214516]\n",
      " [39642.81470387]\n",
      " [ 1292.57887646]\n",
      " [ 5388.5331505 ]\n",
      " [ 7415.66771541]\n",
      " [ 1908.63348194]\n",
      " [37861.84723568]\n",
      " [ 4580.03129424]\n",
      " [11966.5699587 ]\n",
      " [10381.21990953]\n",
      " [ 2881.11691702]\n",
      " [ 8072.76280129]\n",
      " [11019.36689548]\n",
      " [ 9161.00594922]\n",
      " [10040.74412674]\n",
      " [12566.46800494]\n",
      " [32195.90264926]\n",
      " [11718.27580385]\n",
      " [ 3740.80532987]\n",
      " [ 7129.99152724]\n",
      " [ 9331.02021522]\n",
      " [ 1316.51372951]\n",
      " [11024.06741222]\n",
      " [30847.28406596]\n",
      " [27828.20403943]\n",
      " [36742.30538711]\n",
      " [34223.51755345]\n",
      " [10323.35513383]\n",
      " [30844.13441215]\n",
      " [39429.33345657]\n",
      " [ 6537.43517261]\n",
      " [ 4092.1361127 ]\n",
      " [17232.88102184]\n",
      " [ 4891.26974006]\n",
      " [ 7386.18051446]\n",
      " [37191.22875997]\n",
      " [10264.92563143]\n",
      " [ 7890.36138979]\n",
      " [ 6919.92506308]\n",
      " [ 5691.40735719]\n",
      " [ 7591.98235573]\n",
      " [13897.26543885]\n",
      " [11943.80985994]\n",
      " [27387.85564087]\n",
      " [ 5385.94279348]\n",
      " [ 6750.73323177]\n",
      " [32646.67389422]\n",
      " [34045.90205615]\n",
      " [29229.10483415]\n",
      " [37644.57167073]\n",
      " [33576.43553269]\n",
      " [ 6309.85656596]\n",
      " [ 5769.71841753]\n",
      " [13422.74174623]\n",
      " [ 9697.56231644]\n",
      " [  485.86529722]\n",
      " [ 3319.34003249]\n",
      " [28736.91534932]\n",
      " [35686.8156325 ]\n",
      " [ 9819.30499572]\n",
      " [ 5975.27925061]\n",
      " [12893.84788661]\n",
      " [ 7212.8103258 ]\n",
      " [25957.68093815]\n",
      " [26892.24973982]\n",
      " [ 6514.1795934 ]\n",
      " [ 1615.79358939]\n",
      " [12354.19609153]\n",
      " [33580.27795066]\n",
      " [ 7206.79276199]\n",
      " [12208.18962202]\n",
      " [11669.30696041]\n",
      " [ 3574.81393982]\n",
      " [ 5924.10874214]\n",
      " [32053.95833063]\n",
      " [33749.58702887]\n",
      " [28609.83018922]\n",
      " [12925.20800554]\n",
      " [ 1259.5194762 ]\n",
      " [ 2212.78369835]\n",
      " [ 4363.88674647]\n",
      " [ 8971.27636682]\n",
      " [ 7663.58682831]\n",
      " [14268.46012885]\n",
      " [ 1540.97804472]\n",
      " [12320.86290477]\n",
      " [34923.68479037]\n",
      " [11166.62632028]\n",
      " [31156.38823092]\n",
      " [ 9858.28759496]\n",
      " [38097.83260991]\n",
      " [27375.01227723]\n",
      " [ 4595.88471867]\n",
      " [ 9243.64155964]\n",
      " [13390.48268133]\n",
      " [13087.17721533]\n",
      " [ 9524.79949449]\n",
      " [ 5594.02463424]\n",
      " [17097.1266646 ]\n",
      " [ 7824.91663182]\n",
      " [ -300.21512981]\n",
      " [12496.23747474]\n",
      " [13022.2918961 ]\n",
      " [11481.05352247]\n",
      " [ 2369.79988431]\n",
      " [ 6383.6779867 ]\n",
      " [31185.68341833]\n",
      " [ 4691.00434054]\n",
      " [ 8958.41518004]\n",
      " [ 4431.14898781]\n",
      " [ 8979.07846744]\n",
      " [ 9931.14862106]\n",
      " [ 8036.65949522]\n",
      " [ 2052.26213088]\n",
      " [14624.43630813]\n",
      " [11199.68302078]\n",
      " [ 6239.63233375]\n",
      " [12136.19555047]\n",
      " [ 7333.45195073]\n",
      " [ 2332.08176964]\n",
      " [13407.32137391]\n",
      " [14740.01643108]\n",
      " [  740.51584514]\n",
      " [13504.95843563]\n",
      " [ 7455.19463001]\n",
      " [28581.2338916 ]\n",
      " [10145.66936246]\n",
      " [12162.47274602]\n",
      " [ 7048.50582385]\n",
      " [ 9648.84077917]\n",
      " [ 5669.00824367]\n",
      " [ 6246.65017751]\n",
      " [ -147.12402912]\n",
      " [11691.59672768]\n",
      " [13848.46825839]\n",
      " [ 3984.09310301]\n",
      " [15736.87210415]\n",
      " [31171.79170481]\n",
      " [ 5328.07888585]\n",
      " [36473.53546583]\n",
      " [26072.39410654]\n",
      " [ 6851.22909414]\n",
      " [ 6709.19937806]\n",
      " [ 8883.2111031 ]\n",
      " [ 4954.44498739]\n",
      " [ 1801.34465469]\n",
      " [  438.14145173]\n",
      " [28635.30974917]\n",
      " [33298.78297934]\n",
      " [ 8371.61665941]\n",
      " [27028.20961355]\n",
      " [ 9773.39340643]\n",
      " [ 4849.25925687]\n",
      " [11714.26805128]\n",
      " [13736.01381008]\n",
      " [13104.900716  ]\n",
      " [ 4160.83987073]\n",
      " [ 1353.00649257]\n",
      " [11488.9188164 ]]\n"
     ]
    }
   ],
   "source": [
    "lin_model = linear_model.LinearRegression() #Defining our model\n",
    "lin_model.fit(X_train, y_train) #Training the model\n",
    "y_pred = lin_model.predict(X_test) #Testing the model\n",
    "print(y_pred)"
   ]
  },
  {
   "cell_type": "markdown",
   "id": "79fc3f2b-5e75-4de2-8945-1575398fb781",
   "metadata": {},
   "source": [
    "#### Model Accuracy\n",
    "The model has an accuracy of 79% as can be seen in the results below."
   ]
  },
  {
   "cell_type": "code",
   "execution_count": 991,
   "id": "879dc3c3-c6b3-45c7-b100-e84c036b00db",
   "metadata": {},
   "outputs": [
    {
     "name": "stdout",
     "output_type": "stream",
     "text": [
      "Coefficient of determination (R^2)\t: 0.798\n"
     ]
    }
   ],
   "source": [
    "print(\"Coefficient of determination (R^2)\\t:\",r2_score(y_test,y_pred).round(3))"
   ]
  },
  {
   "cell_type": "markdown",
   "id": "4a619073-1460-4ade-8145-e7212266caf8",
   "metadata": {},
   "source": [
    "## Model Evaluation\n",
    "Below is the evaluation of the model through the analysis of Coefficients, Intercepts and Coefficient of determination (r2_score). Using the Coefficients and intercept, the equation of the model can be deduced as y = 11693.22747931(age) + 235.01433099(sex) + 12454.42219238(bmi) + 2720.2412614(children) - 23893.09923609(smoker) + 884.04026991(region) + 21139.40669513. This is the equation that produces the predicted outputs and its accuracy is 79% as can be seen in the results below.           \t"
   ]
  },
  {
   "cell_type": "code",
   "execution_count": 1019,
   "id": "bbdbcf9f-8e4e-4540-a9bf-e2409be8a1f0",
   "metadata": {},
   "outputs": [
    {
     "name": "stdout",
     "output_type": "stream",
     "text": [
      "Coefficients                      \t: [[ 11693.22747931    235.01433099  12454.42219238   2720.2412614\n",
      "  -23893.09923609    884.04026991]]\n",
      "Intercepts                        \t: [21139.40669513]\n",
      "Coefficient of determination (R^2)\t: 0.798\n"
     ]
    }
   ],
   "source": [
    "print(\"Coefficients                      \\t:\", lin_model.coef_)\n",
    "print(\"Intercepts                        \\t:\",lin_model.intercept_)\n",
    "print(\"Coefficient of determination (R^2)\\t:\",r2_score(y_test,y_pred).round(3))"
   ]
  },
  {
   "cell_type": "markdown",
   "id": "9f002ec8-86d9-4be2-b25a-664708ca7258",
   "metadata": {},
   "source": [
    "## Bonus\n",
    "In this section, the plot of the predicted values and the actual values will be plotted together to see how close are the vectors to the model. The feature importance will also be dissected so that we get to see which features had the most influence in our model."
   ]
  },
  {
   "cell_type": "markdown",
   "id": "f526ec10-7894-4bba-a5e1-36027b88ec59",
   "metadata": {},
   "source": [
    "#### Accuracy vs Prediction\n",
    "The actual values will be converted to numpy array so that it can be of the same type as the predicted values. This will allow the smoth plot of the relationship between the two and it will be much easier to print the values of both the actual and predicted head to head.\n",
    "\n",
    "The vectors of the plot shows that the model is able to accurately predict lower charges in comparison to higher-middle charges. The higher-middle charges are the ones that decreased the model's accuracy as most of the vectors have a higher error within that sector but with a good accuarcy for the majority of higher charges."
   ]
  },
  {
   "cell_type": "code",
   "execution_count": 857,
   "id": "5d48e9d5-a24c-44eb-b6df-4b96c1d83783",
   "metadata": {},
   "outputs": [
    {
     "name": "stdout",
     "output_type": "stream",
     "text": [
      "<class 'pandas.core.frame.DataFrame'>\n",
      "<class 'numpy.ndarray'>\n"
     ]
    }
   ],
   "source": [
    "print(type(y_test))\n",
    "print(type(y_pred))"
   ]
  },
  {
   "cell_type": "code",
   "execution_count": 1033,
   "id": "ae964e4a-87c9-424e-8a1b-54f5d5f1f1cf",
   "metadata": {},
   "outputs": [
    {
     "name": "stdout",
     "output_type": "stream",
     "text": [
      "         Actual     Predicted\n",
      "0    3847.67400   3503.331379\n",
      "1    6186.12700   8568.375753\n",
      "2    2566.47070   3925.764121\n",
      "3    9778.34720  11755.314515\n",
      "4   33307.55080  26339.656760\n",
      "5    5630.45785   8999.525762\n",
      "6   10381.47870  13919.509836\n",
      "7    7789.63500   9476.139234\n",
      "8   11674.13000  14332.712309\n",
      "9   36397.57600  28995.864533\n",
      "10   6406.41070   8695.628083\n",
      "11   8891.13950   8345.249764\n",
      "12   1621.88270   2564.280753\n",
      "13  36910.60803  15304.295843\n",
      "14  19719.69470  29588.075951\n",
      "15  15161.53440  16248.156332\n",
      "16  21677.28345  31614.422803\n",
      "17  37133.89820  30403.764592\n",
      "18   5966.88740   6329.213739\n",
      "19   4151.02870   6895.882497\n"
     ]
    },
    {
     "data": {
      "image/png": "[encoded data removed]",
      "text/plain": [
       "<Figure size 640x480 with 1 Axes>"
      ]
     },
     "metadata": {},
     "output_type": "display_data"
    }
   ],
   "source": [
    "y_pred_conv = np.array(y_pred).ravel()\n",
    "y_test_conv = np.array(y_test).ravel()\n",
    "data = pd.DataFrame({\"Actual\": y_test_conv, \"Predicted\": y_pred_conv})\n",
    "print(data.head(20))\n",
    "sns.regplot(x=\"Actual\", y=\"Predicted\", data=data)\n",
    "plt.title(\"Predicted vs Actual costs\")\n",
    "plt.savefig(\"medical_cost_model.png\", dpi=300, bbox_inches=\"tight\")"
   ]
  },
  {
   "cell_type": "markdown",
   "id": "e219f388-8ec9-40cc-8f8e-aee22a58a3ff",
   "metadata": {},
   "source": [
    "#### Feature Importance\n",
    "The most important feature is the one that has the largest absolute coefficient value, below is the list of the features starting with the most important to the least important with their repective absolute coefficient value :~\n",
    "\n",
    "    1. Smoker (23893.09923609)\n",
    "    2. BMI (12454.42219238)\n",
    "    3. Age (11693.22747931)\n",
    "    4. Children (2720.2412614)\n",
    "    5. Region (884.04026991)\n",
    "    6. Sex (235.01433099)"
   ]
  },
  {
   "cell_type": "code",
   "execution_count": 1022,
   "id": "2dd73d7e-e7cd-4c1d-b817-5d66e92d8f01",
   "metadata": {},
   "outputs": [
    {
     "name": "stdout",
     "output_type": "stream",
     "text": [
      "Coefficients                      \t: [[ 11693.22747931    235.01433099  12454.42219238   2720.2412614\n",
      "  -23893.09923609    884.04026991]]\n"
     ]
    }
   ],
   "source": [
    "print(\"Coefficients                      \\t:\", lin_model.coef_)"
   ]
  }
 ],
 "metadata": {
  "kernelspec": {
   "display_name": "Python 3 (ipykernel)",
   "language": "python",
   "name": "python3"
  },
  "language_info": {
   "codemirror_mode": {
    "name": "ipython",
    "version": 3
   },
   "file_extension": ".py",
   "mimetype": "text/x-python",
   "name": "python",
   "nbconvert_exporter": "python",
   "pygments_lexer": "ipython3",
   "version": "3.12.3"
  }
 },
 "nbformat": 4,
 "nbformat_minor": 5
}
